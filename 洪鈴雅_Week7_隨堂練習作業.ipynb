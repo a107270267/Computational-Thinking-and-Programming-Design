{
  "nbformat": 4,
  "nbformat_minor": 0,
  "metadata": {
    "colab": {
      "name": "洪鈴雅-Week7-隨堂練習作業.ipynb",
      "provenance": [],
      "collapsed_sections": [],
      "authorship_tag": "ABX9TyMp2LkyUv1oMlE0soLk82fn",
      "include_colab_link": true
    },
    "kernelspec": {
      "name": "python3",
      "display_name": "Python 3"
    },
    "language_info": {
      "name": "python"
    }
  },
  "cells": [
    {
      "cell_type": "markdown",
      "metadata": {
        "id": "view-in-github",
        "colab_type": "text"
      },
      "source": [
        "<a href=\"https://colab.research.google.com/github/a107270267/Computational-Thinking-and-Programming-Design/blob/main/%E6%B4%AA%E9%88%B4%E9%9B%85_Week7_%E9%9A%A8%E5%A0%82%E7%B7%B4%E7%BF%92%E4%BD%9C%E6%A5%AD.ipynb\" target=\"_parent\"><img src=\"https://colab.research.google.com/assets/colab-badge.svg\" alt=\"Open In Colab\"/></a>"
      ]
    },
    {
      "cell_type": "code",
      "metadata": {
        "colab": {
          "base_uri": "https://localhost:8080/"
        },
        "id": "PatgioreYCxN",
        "outputId": "4ab81c9a-16b5-44b7-a2cc-3b7482ade5bd"
      },
      "source": [
        "type(\"87\")"
      ],
      "execution_count": 1,
      "outputs": [
        {
          "output_type": "execute_result",
          "data": {
            "text/plain": [
              "str"
            ]
          },
          "metadata": {
            "tags": []
          },
          "execution_count": 1
        }
      ]
    },
    {
      "cell_type": "code",
      "metadata": {
        "colab": {
          "base_uri": "https://localhost:8080/"
        },
        "id": "FX7uN_84YOhA",
        "outputId": "d28a6ab5-232f-4e44-eaf7-520a332413d2"
      },
      "source": [
        "int(\"87\")"
      ],
      "execution_count": 2,
      "outputs": [
        {
          "output_type": "execute_result",
          "data": {
            "text/plain": [
              "87"
            ]
          },
          "metadata": {
            "tags": []
          },
          "execution_count": 2
        }
      ]
    },
    {
      "cell_type": "code",
      "metadata": {
        "colab": {
          "base_uri": "https://localhost:8080/"
        },
        "id": "BY_k8_vXYXCe",
        "outputId": "1b798965-d077-4440-a904-704a760dcf70"
      },
      "source": [
        "type(int(\"87\"))"
      ],
      "execution_count": 3,
      "outputs": [
        {
          "output_type": "execute_result",
          "data": {
            "text/plain": [
              "int"
            ]
          },
          "metadata": {
            "tags": []
          },
          "execution_count": 3
        }
      ]
    },
    {
      "cell_type": "code",
      "metadata": {
        "colab": {
          "base_uri": "https://localhost:8080/"
        },
        "id": "Mx7jnGwkYduO",
        "outputId": "50173169-394e-4081-c9c3-6208707faec8"
      },
      "source": [
        "a = input(\"Enter your number?\")\n",
        "type(a)\n",
        "a = int(a)\n",
        "type(a)\n",
        "a + 1"
      ],
      "execution_count": 7,
      "outputs": [
        {
          "output_type": "stream",
          "text": [
            "Enter your number?20\n"
          ],
          "name": "stdout"
        },
        {
          "output_type": "execute_result",
          "data": {
            "text/plain": [
              "21"
            ]
          },
          "metadata": {
            "tags": []
          },
          "execution_count": 7
        }
      ]
    },
    {
      "cell_type": "code",
      "metadata": {
        "colab": {
          "base_uri": "https://localhost:8080/",
          "height": 35
        },
        "id": "8JGy3pRxZuI8",
        "outputId": "2067b03c-b246-47fc-9e3b-29b38a5acf66"
      },
      "source": [
        "1 + 1\n",
        "\"1\" + \"1\"\n",
        "3 * \"1\""
      ],
      "execution_count": 8,
      "outputs": [
        {
          "output_type": "execute_result",
          "data": {
            "application/vnd.google.colaboratory.intrinsic+json": {
              "type": "string"
            },
            "text/plain": [
              "'111'"
            ]
          },
          "metadata": {
            "tags": []
          },
          "execution_count": 8
        }
      ]
    },
    {
      "cell_type": "code",
      "metadata": {
        "colab": {
          "base_uri": "https://localhost:8080/"
        },
        "id": "L4Ug59yhb-h_",
        "outputId": "673e4102-8f58-471d-ce64-58f3af9f447a"
      },
      "source": [
        "radius = float(input('請輸入半徑?'))\n",
        "PI = 3.14159\n",
        "circumference = 2 * PI * radius\n",
        "area = radius * radius * PI\n",
        "print(f'圓周長為 {circumference}, 圓面積為 {area}。')"
      ],
      "execution_count": 22,
      "outputs": [
        {
          "output_type": "stream",
          "text": [
            "請輸入半徑?20\n",
            "圓周長為 125.6636, 圓面積為 1256.636。\n"
          ],
          "name": "stdout"
        }
      ]
    },
    {
      "cell_type": "markdown",
      "metadata": {
        "id": "U0xFcTHnk_6P"
      },
      "source": [
        "#隨堂練習: 求圓環的面積\n",
        "輸入外圓直徑r1與內圓直徑r2,求圓環面積。\n"
      ]
    },
    {
      "cell_type": "code",
      "metadata": {
        "colab": {
          "base_uri": "https://localhost:8080/"
        },
        "id": "lryFvLZ5k4Gu",
        "outputId": "79b78954-5347-44b9-dded-163cacc2aca1"
      },
      "source": [
        "r1 = eval(input(\"輸入外圓的直徑: \"))\n",
        "r2 = eval(input(\"輸入內圓的直徑: \"))\n",
        "s1 = 3.14 * r1/2 * r1/2\n",
        "s2 = 3.14 * r2/2 * r2/2\n",
        "s3 = s1 - s2 \n",
        "print(\"外圓面積為\",s1)\n",
        "print(\"內圓面積為\",s2)\n",
        "print(\"圓環面積為\",s3)"
      ],
      "execution_count": 26,
      "outputs": [
        {
          "output_type": "stream",
          "text": [
            "輸入外圓的直徑: 50\n",
            "輸入內圓的直徑: 25\n",
            "外圓面積為 1962.5\n",
            "內圓面積為 490.625\n",
            "圓環面積為 1471.875\n"
          ],
          "name": "stdout"
        }
      ]
    },
    {
      "cell_type": "markdown",
      "metadata": {
        "id": "qHfRhfcYnZ8t"
      },
      "source": [
        "#範例練習4-3: 攝氏轉華氏\n",
        "請設計一個程式將輸入的攝氏溫度轉成華氏溫度,轉換公式如下:華氏溫度= 攝氏溫\n",
        "度*9/5+32"
      ]
    },
    {
      "cell_type": "code",
      "metadata": {
        "colab": {
          "base_uri": "https://localhost:8080/"
        },
        "id": "FJ1jMkQhnciT",
        "outputId": "8ffcbfbc-4a7a-4914-9436-116b3469c421"
      },
      "source": [
        "c = float(input('請輸入攝氏溫度?'))\n",
        "f = c * 9/5 + 32\n",
        "print('華氏溫度為', f)\n",
        "\n",
        "c1 = (f - 32) * (5/9)\n",
        "print(\"攝氏溫度\", c1)"
      ],
      "execution_count": 28,
      "outputs": [
        {
          "output_type": "stream",
          "text": [
            "請輸入攝氏溫度?20\n",
            "華氏溫度為 68.0\n",
            "攝氏溫度 20.0\n"
          ],
          "name": "stdout"
        }
      ]
    },
    {
      "cell_type": "markdown",
      "metadata": {
        "id": "A272idz6oDWL"
      },
      "source": [
        "#隨堂練習 : 英制轉公制\n",
        "將身高由英制改成公制,例如5尺8吋換算成公制,1尺等於12吋,1吋等於2.54公\n",
        "分,轉換公式為(512+8)2.54等於172.72公分。"
      ]
    },
    {
      "cell_type": "code",
      "metadata": {
        "colab": {
          "base_uri": "https://localhost:8080/"
        },
        "id": "6pE5_EJTnsM7",
        "outputId": "42fd4595-047b-4fdf-eadb-127a45b4784a"
      },
      "source": [
        "f=int(input('請輸入幾尺?'))\n",
        "i=int(input('請輸入幾吋?'))\n",
        "ans=(f*12+i)*2.45\n",
        "print('轉換成',ans,'公分')"
      ],
      "execution_count": 29,
      "outputs": [
        {
          "output_type": "stream",
          "text": [
            "請輸入幾尺?3\n",
            "請輸入幾吋?6\n",
            "轉換成 102.9 公分\n"
          ],
          "name": "stdout"
        }
      ]
    },
    {
      "cell_type": "markdown",
      "metadata": {
        "id": "JcS7u5AWrggP"
      },
      "source": [
        "練習3: 變數賦值，小猴子摘水果"
      ]
    },
    {
      "cell_type": "code",
      "metadata": {
        "id": "FbEnIyPipDDK"
      },
      "source": [
        "total = 0\n",
        "fruit = \"Apple\"\n",
        "number = 2\n",
        "total = total + number\n",
        "print(\"摘了\",fruit, \"摘了\",number, \"個, 總共摘了\",total, \"個水果\")\n",
        "print(f\"摘了{fruit}、摘了{number}、總共摘了{total}個水果\")\n",
        "\n",
        "fruit = \"Pear\"\n",
        "number = 1\n",
        "total = total + number\n",
        "print(\"摘了\",fruit, \"摘了\",number, \"個, 總共摘了\",total, \"個水果\")\n",
        "print(f\"摘了{fruit}、摘了{number}、總共摘了{total}個水果\")\n",
        "\n",
        "fruit = \"Peach\"\n",
        "number = 3\n",
        "total = total + number\n",
        "print(\"摘了\",fruit, \"摘了\",number, \"個, 總共摘了\",total, \"個水果\")\n",
        "print(f\"摘了{fruit}、摘了{number}、總共摘了{total}個水果\")\n",
        "\n",
        "fruit = \"Banana\"\n",
        "number = 6\n",
        "total = total + number\n",
        "print(\"摘了\",fruit, \"摘了\",number, \"個, 總共摘了\",total, \"個水果\")\n",
        "print(f\"摘了{fruit}、摘了{number}、總共摘了{total}個水果\")"
      ],
      "execution_count": null,
      "outputs": []
    }
  ]
}