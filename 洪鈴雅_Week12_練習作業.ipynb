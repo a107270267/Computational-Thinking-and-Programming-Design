{
  "nbformat": 4,
  "nbformat_minor": 0,
  "metadata": {
    "kernelspec": {
      "display_name": "Python 3",
      "language": "python",
      "name": "python3"
    },
    "language_info": {
      "codemirror_mode": {
        "name": "ipython",
        "version": 3
      },
      "file_extension": ".py",
      "mimetype": "text/x-python",
      "name": "python",
      "nbconvert_exporter": "python",
      "pygments_lexer": "ipython3",
      "version": "3.8.5"
    },
    "colab": {
      "name": "洪鈴雅-Week12-練習作業.ipynb",
      "provenance": [],
      "include_colab_link": true
    }
  },
  "cells": [
    {
      "cell_type": "markdown",
      "metadata": {
        "id": "view-in-github",
        "colab_type": "text"
      },
      "source": [
        "<a href=\"https://colab.research.google.com/github/a107270267/Computational-Thinking-and-Programming-Design/blob/main/%E6%B4%AA%E9%88%B4%E9%9B%85_Week12_%E7%B7%B4%E7%BF%92%E4%BD%9C%E6%A5%AD.ipynb\" target=\"_parent\"><img src=\"https://colab.research.google.com/assets/colab-badge.svg\" alt=\"Open In Colab\"/></a>"
      ]
    },
    {
      "cell_type": "markdown",
      "metadata": {
        "id": "-vmIso6Vj99H"
      },
      "source": [
        "### 1. 單向選擇\n"
      ]
    },
    {
      "cell_type": "code",
      "metadata": {
        "id": "lv_JBa6bj99N"
      },
      "source": [
        "## 範例：比較數字（一）: if\n",
        "\n",
        "In [3]: ## 數字資料 （一）\n",
        "   ...: num = int(input(\"請輸入一個數字: \"))\n",
        "   ...: if num > 0:\n",
        "   ...: \tprint(\"數字為正數\")\n",
        "   ...: print(\"比較完畢\")\n",
        "   ...: # 輸入5, 10, -3看結果\n",
        "\n",
        "請輸入一個數字: 5\n",
        "數字為正數\n",
        "比較完畢"
      ],
      "execution_count": null,
      "outputs": []
    },
    {
      "cell_type": "code",
      "metadata": {
        "id": "hc7taUrwj99O"
      },
      "source": [
        ""
      ],
      "execution_count": null,
      "outputs": []
    },
    {
      "cell_type": "code",
      "metadata": {
        "id": "dSTRGZQxj99O"
      },
      "source": [
        "## 範例：比較數字（二）:串接if\n",
        "\n",
        "In [5]: num = int(input(\"輸入一個數字： \"))\n",
        "   ...: \n",
        "   ...: if num > 0:\n",
        "   ...: \tprint(\"是正數\")\n",
        "   ...: if num < 0:\n",
        "   ...: \tprint(\"是負數\")\n",
        "   ...: if num == 0:\n",
        "   ...: \tprint(\"數字是0\")\n",
        "   ...: print(\"比較完畢！\")\n",
        "\n",
        "輸入一個數字： 5\n",
        "是正數\n",
        "比較完畢！"
      ],
      "execution_count": null,
      "outputs": []
    },
    {
      "cell_type": "code",
      "metadata": {
        "id": "AQMnlWP5j99O"
      },
      "source": [
        ""
      ],
      "execution_count": null,
      "outputs": []
    },
    {
      "cell_type": "code",
      "metadata": {
        "id": "eQN4vrC9j99P"
      },
      "source": [
        "## 範例：比較數字（三）:巢狀條件式\n",
        "\n",
        "In [6]: ## 巢狀條件式\n",
        "   ...: num_a = int(input(\"輸入第一個數字？ \"))\n",
        "   ...: num_b = int(input(\"輸入第二個數字？ \"))\n",
        "   ...: \n",
        "   ...: if num_a < 0:\n",
        "   ...: \tprint(\"第一個是負數\")\n",
        "   ...: \tif num_b < 0:\n",
        "   ...: \t\tprint(\"第二個也是負數\")\n",
        "   ...: print(\"比較完成\")\n",
        "\n",
        "輸入第一個數字？ 5\n",
        "\n",
        "輸入第二個數字？ 8\n",
        "比較完成\n",
        "\n",
        "In [7]: ## 非巢狀結構\n",
        "   ...: num_a = int(input(\"輸入第一個數字？ \"))\n",
        "   ...: num_b = int(input(\"輸入第二個數字？ \"))\n",
        "   ...: \n",
        "   ...: if num_a < 0:\n",
        "   ...: \tprint(\"第一個是負數\")\n",
        "   ...: if num_b < 0:\n",
        "   ...: \tprint(\"第二個是負數\")\n",
        "   ...: print(\"比較完成\")\n",
        "\n",
        "輸入第一個數字？ 5\n",
        "\n",
        "輸入第二個數字？ 8\n",
        "比較完成\n",
        "\n",
        "## 加分:請舉例說明這兩個程式的執行結果何時會不同?"
      ],
      "execution_count": null,
      "outputs": []
    },
    {
      "cell_type": "code",
      "metadata": {
        "id": "kGHy26huj99P",
        "colab": {
          "base_uri": "https://localhost:8080/"
        },
        "outputId": "ab131488-c0ec-420d-8860-617c08ea3741"
      },
      "source": [
        "num_a = int(input(\"輸入第一個數字？ \"))\n",
        "num_b = int(input(\"輸入第二個數字？ \"))\n",
        "\n",
        "if num_a < 0:\n",
        "\tprint(\"第一個是負數\")\n",
        "if num_b < 0:\n",
        "\tprint(\"第二個也是負數\")\n",
        "print(\"比較完成\")"
      ],
      "execution_count": 1,
      "outputs": [
        {
          "output_type": "stream",
          "text": [
            "輸入第一個數字？ 5\n",
            "輸入第二個數字？ 8\n",
            "比較完成\n"
          ],
          "name": "stdout"
        }
      ]
    },
    {
      "cell_type": "code",
      "metadata": {
        "id": "E71-viVvj99P"
      },
      "source": [
        "**範例：今晚要煮義大利麵嗎?**"
      ],
      "execution_count": null,
      "outputs": []
    },
    {
      "cell_type": "code",
      "metadata": {
        "id": "foK7kgKIj99Q"
      },
      "source": [
        "In [10]: ## 今晚吃義大利麵嗎？\n",
        "    ...: noodle = input(\"有麵嗎？ YES or NO: \")\n",
        "    ...: sauce = input(\"有醬料嗎？ YES or NO: \")\n",
        "    ...: \n",
        "    ...: ## 方法（一）\n",
        "    ...: if noodle==\"YES\" and sauce==\"YES\": # 真值表結果\n",
        "    ...: \tprint(\"今天晚上吃義大利麵\")\n",
        "\n",
        "有麵嗎？ YES or NO: YES\n",
        "\n",
        "有醬料嗎？ YES or NO: YES\n",
        "今天晚上吃義大利麵\n",
        "\n",
        "In [11]: ## 方法（二）\n",
        "    ...: if noodle == \"YES\":\n",
        "    ...: \tif sauce == \"YES\":\n",
        "    ...: \t\tprint(\"今天晚上吃義大利麵\")\n",
        "    ...:         \n",
        "今天晚上吃義大利麵"
      ],
      "execution_count": null,
      "outputs": []
    },
    {
      "cell_type": "code",
      "metadata": {
        "colab": {
          "base_uri": "https://localhost:8080/"
        },
        "id": "DrViUWmdu7Rg",
        "outputId": "74ae4d9d-73f0-4f92-9123-e678c407a555"
      },
      "source": [
        "noodle = input(\"有麵嗎？ YES or NO: \")\n",
        "sauce = input(\"有醬料嗎？ YES or NO: \")\n",
        "\n",
        "## 方法（一）\n",
        "if noodle==\"YES\" and sauce==\"YES\": \n",
        "   print(\"今天晚上吃義大利麵\")"
      ],
      "execution_count": 6,
      "outputs": [
        {
          "output_type": "stream",
          "text": [
            "有麵嗎？ YES or NO: YES\n",
            "有醬料嗎？ YES or NO: YES\n",
            "今天晚上吃義大利麵\n"
          ],
          "name": "stdout"
        }
      ]
    },
    {
      "cell_type": "markdown",
      "metadata": {
        "id": "HwVD77cLj99Q"
      },
      "source": [
        "## 2.  雙向選擇\n"
      ]
    },
    {
      "cell_type": "code",
      "metadata": {
        "id": "lMvB3YbYj99Q"
      },
      "source": [
        "**範例: 判斷及格與不及格**\n",
        "\n",
        " In [1]: score = int(input('請輸入一個成績？'))\n",
        "    ...: if score >= 60:\n",
        "    ...:     print('有及格ㄡ～')\n",
        "    ...: else:\n",
        "    ...:     print('不及格ㄟ！')\n",
        "    ...:     \n",
        "\n",
        "請輸入一個成績？88\n",
        "有及格ㄡ～"
      ],
      "execution_count": null,
      "outputs": []
    },
    {
      "cell_type": "code",
      "metadata": {
        "id": "J6_4W2hEj99Q",
        "colab": {
          "base_uri": "https://localhost:8080/"
        },
        "outputId": "e3194513-24dd-41f5-e766-20a0eb61b0a8"
      },
      "source": [
        "score = int(input('請輸入一個成績？'))\n",
        "if score >= 60:\n",
        "    print('有及格ㄡ～')\n",
        "else:\n",
        "    print('不及格ㄟ！')"
      ],
      "execution_count": 10,
      "outputs": [
        {
          "output_type": "stream",
          "text": [
            "請輸入一個成績？90\n",
            "有及格ㄡ～\n"
          ],
          "name": "stdout"
        }
      ]
    },
    {
      "cell_type": "code",
      "metadata": {
        "colab": {
          "base_uri": "https://localhost:8080/"
        },
        "id": "tj_m8xVTyFbs",
        "outputId": "a1a914fa-7522-4ef9-f0e3-9a275595bc5c"
      },
      "source": [
        "day = input(\"輸入星期幾: \")\n",
        "if day == \"星期六\" or day == \"星期天\":\n",
        "  alarm = \"OFF\"\n",
        "  print(\"週末,可睡晚一點!\")\n",
        "else:\n",
        "  alarm = \"ON\"\n",
        "  print(\"起床,準備去上學\")"
      ],
      "execution_count": 9,
      "outputs": [
        {
          "output_type": "stream",
          "text": [
            "輸入星期幾: 星期四\n",
            "起床,準備去上學\n"
          ],
          "name": "stdout"
        }
      ]
    },
    {
      "cell_type": "markdown",
      "metadata": {
        "id": "CfSSuh7Cj99R"
      },
      "source": [
        "#### 隨堂練習: 滿2000 打九折\n",
        "\n",
        "**請寫一個程式幫助店家計算顧客所需付出的金額。**\n",
        "\n",
        "採買物品時，有時會遇到店家為了刺激消費，會使用滿額折扣。例如，滿2000 打九折，未滿2000 則不打折。"
      ]
    },
    {
      "cell_type": "code",
      "metadata": {
        "colab": {
          "base_uri": "https://localhost:8080/"
        },
        "id": "ioHQ_hSHy2b6",
        "outputId": "2df7aca9-bf14-4f25-a857-936f4dc271e7"
      },
      "source": [
        "price = int(input(\"請輸入您所購入商品的總金額:\"))\n",
        "if price >= 2000:\n",
        "  print(price*0.9)  \n",
        "else:\n",
        "  print(price)  "
      ],
      "execution_count": 12,
      "outputs": [
        {
          "output_type": "stream",
          "text": [
            "請輸入您所購入商品的總金額:2100\n",
            "1890.0\n"
          ],
          "name": "stdout"
        }
      ]
    },
    {
      "cell_type": "code",
      "metadata": {
        "id": "02I5lDudj99R"
      },
      "source": [
        "#### 範例 三角形判斷\n",
        "\n",
        "設計一個程式允許輸入三角形三邊長，分別為a、b 與c，根據三角形中任兩邊相加要大於第三邊，判斷是否為三角形。\n",
        "\n",
        "In [1]: a = int(input('請輸入三角形邊長a長度為？'))\n",
        "    ...: b = int(input('請輸入三角形邊長b長度為？'))\n",
        "    ...: c = int(input('請輸入三角形邊長c長度為？'))\n",
        "    ...: \n",
        "    ...: if (a < b + c)and(b < a + c)and( c < a + b):   #任兩邊相加是否大於第三邊\n",
        "    ...:     print('可構成三角形')\n",
        "    ...: else:\n",
        "    ...:     print('無法構成三角形')\n",
        "    ...:     \n",
        "\n",
        "請輸入三角形邊長a長度為？3\n",
        "\n",
        "請輸入三角形邊長b長度為？4\n",
        "\n",
        "請輸入三角形邊長c長度為？5\n",
        "可構成三角形"
      ],
      "execution_count": null,
      "outputs": []
    },
    {
      "cell_type": "code",
      "metadata": {
        "id": "CVvc4b7Pj99R",
        "colab": {
          "base_uri": "https://localhost:8080/"
        },
        "outputId": "c54f04e7-6f26-49b4-cfbf-5c85d064befc"
      },
      "source": [
        "a = int(input('請輸入三角形邊長a長度為？'))\n",
        "b = int(input('請輸入三角形邊長b長度為？'))\n",
        "c = int(input('請輸入三角形邊長c長度為？'))\n",
        "\n",
        "if (a < b + c)and(b < a + c)and( c < a + b):   #任兩邊相加是否大於第三邊\n",
        "    print('可構成三角形')\n",
        "else:\n",
        "    print('無法構成三角形')"
      ],
      "execution_count": 13,
      "outputs": [
        {
          "output_type": "stream",
          "text": [
            "請輸入三角形邊長a長度為？6\n",
            "請輸入三角形邊長b長度為？5\n",
            "請輸入三角形邊長c長度為？2\n",
            "可構成三角形\n"
          ],
          "name": "stdout"
        }
      ]
    },
    {
      "cell_type": "markdown",
      "metadata": {
        "id": "5q-y1AI1j99S"
      },
      "source": [
        "#### 隨堂練習: 判斷奇偶數\n",
        "\n",
        "請寫一個程式判斷輸入的值是奇數還是偶數。"
      ]
    },
    {
      "cell_type": "code",
      "metadata": {
        "id": "eZXDT2LZj99S",
        "colab": {
          "base_uri": "https://localhost:8080/"
        },
        "outputId": "7fc83de2-9121-4f9d-bbbd-c849ce912b12"
      },
      "source": [
        "num = int(input(\"請輸入一個整數?\"))\n",
        "if num % 2 == 0:\n",
        "  print(num,'為偶數')\n",
        "else:\n",
        "  print(num,'為奇數')"
      ],
      "execution_count": 21,
      "outputs": [
        {
          "output_type": "stream",
          "text": [
            "請輸入一個整數?8\n",
            "8 為偶數\n"
          ],
          "name": "stdout"
        }
      ]
    },
    {
      "cell_type": "markdown",
      "metadata": {
        "id": "81_igfJTj99S"
      },
      "source": [
        "## 3. 多向選擇\n"
      ]
    },
    {
      "cell_type": "code",
      "metadata": {
        "id": "FCH6G4X5j99S"
      },
      "source": [
        "#### 範例：兩個數比大小\n",
        "\n",
        "In [1]: ## Input\n",
        "    ...: num1 = int(input(\"Please input a number: \"))\n",
        "    ...: num2 = int(input(\"Please input another number: \"))\n",
        "    ...: \n",
        "    ...: ## Process＋ Output\n",
        "    ...: if num1 == num2:\n",
        "    ...:     print(num1, \"等於\", num2)\n",
        "    ...: elif num1 < num2:\n",
        "    ...:     print(num1, \"小於\", num2)\n",
        "    ...: else:\n",
        "    ...:     print(num1, \"大於\", num2)\n",
        "\n",
        "Please input a number: 5\n",
        "\n",
        "Please input another number: 8\n",
        "5 小於 8"
      ],
      "execution_count": null,
      "outputs": []
    },
    {
      "cell_type": "code",
      "metadata": {
        "id": "__2m5fTlj99S",
        "colab": {
          "base_uri": "https://localhost:8080/"
        },
        "outputId": "75858c41-30c5-4ef2-9b9e-fe360b96357b"
      },
      "source": [
        "num1 = int(input(\"Please input a number: \"))\n",
        "num2 = int(input(\"Please input another number: \"))\n",
        "\n",
        "## Process＋ Output\n",
        "if num1 == num2:\n",
        "    print(num1, \"等於\", num2)\n",
        "elif num1 < num2:\n",
        "    print(num1, \"小於\", num2)\n",
        "else:\n",
        "    print(num1, \"大於\", num2)"
      ],
      "execution_count": 28,
      "outputs": [
        {
          "output_type": "stream",
          "text": [
            "Please input a number: 6\n",
            "Please input another number: 9\n",
            "6 小於 9\n"
          ],
          "name": "stdout"
        }
      ]
    },
    {
      "cell_type": "code",
      "metadata": {
        "id": "B5qJ5C_Sj99T"
      },
      "source": [
        "#### 範例 : 郵資計算\n",
        "\n",
        "某快遞公司以重量為計算郵資的依據，重量與郵資計算如下表，請寫一個程式協助快遞人員計算郵資，快遞人員只要輸入重量，程式自動計算郵資。\n",
        "\n",
        "In [1]: ## 郵資計算\n",
        "    ...: w = float(input('請輸入物品重量？')) # Input\n",
        "    ...: \n",
        "    ...: if w <= 5:                          \n",
        "    ...:     print('所需郵資為50元')\n",
        "    ...: elif w <= 10:\n",
        "    ...:     print('所需郵資為70元')\n",
        "    ...: elif w <= 15:\n",
        "    ...:     print('所需郵資為90元')\n",
        "    ...: elif w <= 20:\n",
        "    ...:     print('所需郵資為110元')\n",
        "    ...: else:\n",
        "    ...:     print('超過20公斤無法寄送')\n",
        "\n",
        "請輸入物品重量？20\n",
        "所需郵資為110元"
      ],
      "execution_count": null,
      "outputs": []
    },
    {
      "cell_type": "code",
      "metadata": {
        "id": "FcUvhdxUj99T",
        "colab": {
          "base_uri": "https://localhost:8080/"
        },
        "outputId": "068c47db-65e7-41e5-ef9f-bd1ee2e23b0d"
      },
      "source": [
        "w = float(input('請輸入物品重量？')) # Input\n",
        "\n",
        "if w <= 5:                          \n",
        "    print('所需郵資為50元')\n",
        "elif w <= 10:\n",
        "    print('所需郵資為70元')\n",
        "elif w <= 15:\n",
        "    print('所需郵資為90元')\n",
        "elif w <= 20:\n",
        "    print('所需郵資為110元')\n",
        "else:\n",
        "    print('超過20公斤無法寄送')"
      ],
      "execution_count": 27,
      "outputs": [
        {
          "output_type": "stream",
          "text": [
            "請輸入物品重量？15\n",
            "所需郵資為90元\n"
          ],
          "name": "stdout"
        }
      ]
    },
    {
      "cell_type": "markdown",
      "metadata": {
        "id": "cBnJk5l1j99T"
      },
      "source": [
        "#### 隨堂練習： BMI 計算\n",
        "\n",
        "**請寫一個程式讓使用者輸入身高與體重，顯示BMI 值與肥胖程度。**"
      ]
    },
    {
      "cell_type": "code",
      "metadata": {
        "id": "zONiS40Gj99T",
        "colab": {
          "base_uri": "https://localhost:8080/"
        },
        "outputId": "98237844-5cb3-4aca-cfa2-2b66b1148475"
      },
      "source": [
        "w = float(input(\"請輸入體重(KG)?\"))\n",
        "h = float(input(\"請輸入身高(M)?\"))\n",
        "bmi = w/(h*h)\n",
        "print('BMI為',bmi)\n",
        "if bmi < 18:\n",
        "   print('體重過輕')\n",
        "elif bmi < 24:\n",
        "    print('體重正常')\n",
        "elif bmi < 27:\n",
        "    print('體重過重')\n",
        "else:\n",
        "    print('體重肥胖')"
      ],
      "execution_count": 25,
      "outputs": [
        {
          "output_type": "stream",
          "text": [
            "請輸入體重(KG)?60\n",
            "請輸入身高(M)?1.64\n",
            "BMI為 22.308149910767405\n",
            "體重正常\n"
          ],
          "name": "stdout"
        }
      ]
    }
  ]
}