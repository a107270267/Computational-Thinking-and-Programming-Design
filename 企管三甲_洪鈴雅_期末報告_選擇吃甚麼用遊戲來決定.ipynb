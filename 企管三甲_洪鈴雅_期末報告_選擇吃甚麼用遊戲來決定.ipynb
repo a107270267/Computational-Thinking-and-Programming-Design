{
  "nbformat": 4,
  "nbformat_minor": 0,
  "metadata": {
    "colab": {
      "name": "企管三甲 洪鈴雅 期末報告--選擇吃甚麼用遊戲來決定.ipynb",
      "provenance": [],
      "authorship_tag": "ABX9TyOCK75E5+19leAOihnENhvc",
      "include_colab_link": true
    },
    "kernelspec": {
      "name": "python3",
      "display_name": "Python 3"
    },
    "language_info": {
      "name": "python"
    }
  },
  "cells": [
    {
      "cell_type": "markdown",
      "metadata": {
        "id": "view-in-github",
        "colab_type": "text"
      },
      "source": [
        "<a href=\"https://colab.research.google.com/github/a107270267/Computational-Thinking-and-Programming-Design/blob/main/%E4%BC%81%E7%AE%A1%E4%B8%89%E7%94%B2_%E6%B4%AA%E9%88%B4%E9%9B%85_%E6%9C%9F%E6%9C%AB%E5%A0%B1%E5%91%8A_%E9%81%B8%E6%93%87%E5%90%83%E7%94%9A%E9%BA%BC%E7%94%A8%E9%81%8A%E6%88%B2%E4%BE%86%E6%B1%BA%E5%AE%9A.ipynb\" target=\"_parent\"><img src=\"https://colab.research.google.com/assets/colab-badge.svg\" alt=\"Open In Colab\"/></a>"
      ]
    },
    {
      "cell_type": "code",
      "metadata": {
        "colab": {
          "base_uri": "https://localhost:8080/"
        },
        "id": "yvbrO94G4uQI",
        "outputId": "c1af09cc-83e4-4822-d693-d130c0a814c5"
      },
      "source": [
        "print(\"哈囉,大家好。我叫little a ,是一個聊天機器人。\")\n",
        "hobby = \"我很喜歡美食東西,也喜歡養動物。今天很高興有機會來到世新大學,請大家多多指教。\"\n",
        "print( hobby )\n",
        "name = input(\"嗨!妳好,請問大名?: \")\n",
        "print(\"你好\", name, \"很高興認識你\")\n",
        "\n",
        "year = input(\"請問一下今年是西元2021年,那是民國幾年呢? \")\n",
        "print(\"對!應該沒錯,謝謝妳!\")\n",
        "myage = int(input(\"Francis,猜猜看我今年幾歲? \"))\n",
        "print(\"哇!你好聰明,我今年的確\", myage)\n",
        "nyears = 100 - myage\n",
        "print(\"我再\", nyears, \"年就滿100歲了。\")\n",
        "print(\"到時候是西元\", int(year) + nyears + 1911, \"年\") \n",
        "print(\"也就是民國\", int(year) + nyears, \"年\") \n",
        "\n",
        "feeling = input(\"你今天心情如何?; \")\n",
        "print(\"可以告訴我,你\", feeling, \"的原因嗎? \")\n",
        "reason = input(\"為什麼: \")\n",
        "print(\"我知道了。謝謝分享。\")\n",
        "\n",
        "ans = input(\"你有選擇障礙嗎?\")\n",
        "print('不過不管你的答案是:', ans , '我們玩個小遊戲來幫助你選擇今天吃甚麼吧!')\n",
        "\n",
        "import random\n",
        "my = int(input(\"請出拳 [0] 剪刀 [1] 石頭 [2] 布\"))\n",
        "print(\"我出拳為\", my)\n",
        "computer = random.randint(0, 2)\n",
        "print(\"電腦出拳為\", computer)\n",
        "if my == 0:\n",
        "     if computer == 0:\n",
        "       print('平手，吃日式')\n",
        "     elif computer == 1:\n",
        "       print('電腦獲勝，吃西式')\n",
        "     else:\n",
        "       print('玩家獲勝，吃中式')\n",
        "\n",
        "elif my == 1:\n",
        "     if computer == 0:\n",
        "       print('玩家獲勝，吃中式')\n",
        "     elif computer == 1:\n",
        "       print('平手，吃日式')\n",
        "     else:\n",
        "       print('電腦獲勝，吃西式')\n",
        "\n",
        "else:\n",
        "     if computer == 1:\n",
        "       print('電腦獲勝，吃西式')\n",
        "     elif computer == 2:\n",
        "       print('玩家獲勝，吃中式')\n",
        "     else:\n",
        "       print('平手，吃日式')"
      ],
      "execution_count": 11,
      "outputs": [
        {
          "output_type": "stream",
          "text": [
            "哈囉,大家好。我叫little a ,是一個聊天機器人。\n",
            "我很喜歡美食東西,也喜歡養動物。今天很高興有機會來到世新大學,請大家多多指教。\n",
            "嗨!妳好,請問大名?: sky\n",
            "你好 sky 很高興認識你\n",
            "請問一下今年是西元2021年,那是民國幾年呢? 110\n",
            "對!應該沒錯,謝謝妳!\n",
            "Francis,猜猜看我今年幾歲? 18\n",
            "哇!你好聰明,我今年的確 18\n",
            "我再 82 年就滿100歲了。\n",
            "到時候是西元 2103 年\n",
            "也就是民國 192 年\n",
            "你今天心情如何?; 還好\n",
            "可以告訴我,你 還好 的原因嗎? \n",
            "為什麼: 不知道\n",
            "我知道了。謝謝分享。\n",
            "你有選擇障礙嗎?有\n",
            "不過不管你的答案是: 有 我們玩個小遊戲來幫助你選擇今天吃甚麼吧!\n",
            "請出拳 [0] 剪刀 [1] 石頭 [2] 布1\n",
            "我出拳為 1\n",
            "電腦出拳為 2\n",
            "電腦獲勝，吃西式\n"
          ],
          "name": "stdout"
        }
      ]
    }
  ]
}