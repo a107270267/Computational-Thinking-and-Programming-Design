{
  "nbformat": 4,
  "nbformat_minor": 0,
  "metadata": {
    "colab": {
      "name": "洪鈴雅-Week7-補交作業.ipynb",
      "provenance": [],
      "authorship_tag": "ABX9TyPbnDGzZkGWoIIn6EHKS8kX",
      "include_colab_link": true
    },
    "kernelspec": {
      "name": "python3",
      "display_name": "Python 3"
    },
    "language_info": {
      "name": "python"
    }
  },
  "cells": [
    {
      "cell_type": "markdown",
      "metadata": {
        "id": "view-in-github",
        "colab_type": "text"
      },
      "source": [
        "<a href=\"https://colab.research.google.com/github/a107270267/Computational-Thinking-and-Programming-Design/blob/main/%E6%B4%AA%E9%88%B4%E9%9B%85_Week7_%E8%A3%9C%E4%BA%A4%E4%BD%9C%E6%A5%AD.ipynb\" target=\"_parent\"><img src=\"https://colab.research.google.com/assets/colab-badge.svg\" alt=\"Open In Colab\"/></a>"
      ]
    },
    {
      "cell_type": "markdown",
      "metadata": {
        "id": "enydGAgLZ8wl"
      },
      "source": [
        "#練習5: 整理圖書\n",
        "輸入兩個正整數a = 13和b = 11,將換a和b的值,即a = 11和b = 13。\n",
        "~梁小星在家中整理書櫃,原來第一層放11本爸爸的書,第二層放13本自己的書,他想將兩層圖書的位置對調,請問該如何做呢?"
      ]
    },
    {
      "cell_type": "code",
      "metadata": {
        "colab": {
          "base_uri": "https://localhost:8080/"
        },
        "id": "Re4ZDzVIaBQ-",
        "outputId": "21bfe68c-d48c-481f-adb5-20364461719f"
      },
      "source": [
        "a = 13\n",
        "b = 11\n",
        "\n",
        "t = a\n",
        "a = b\n",
        "b = t\n",
        "print(\"a = \", a,\"b =\", b)"
      ],
      "execution_count": 1,
      "outputs": [
        {
          "output_type": "stream",
          "text": [
            "a =  11 b = 13\n"
          ],
          "name": "stdout"
        }
      ]
    },
    {
      "cell_type": "markdown",
      "metadata": {
        "id": "99FIaRZ0cB9S"
      },
      "source": [
        "#練習11: 分糖果遊戲\n",
        "在糖果屋中,有6位小朋友在玩分糖果遊戲。這6位小朋友的編號為1, 2, 3, 4, 5, 6,\n",
        "並按照自己的編號坐在一張圓桌旁。它們身上都有不同的糖果,從1號小朋友開始,\n",
        "將自己的糖果均分成3份,如果有多的就立刻先吃掉,然後自己留1份,其餘2份給身\n",
        "邊的小朋友。接著2號、3號、4號、5號、6號同學這樣做。問一輪後,每位小朋友手\n",
        "上有多少糖果。"
      ]
    },
    {
      "cell_type": "code",
      "metadata": {
        "colab": {
          "base_uri": "https://localhost:8080/"
        },
        "id": "wSp28snacKGi",
        "outputId": "366d12dd-11fd-4d6f-d8e4-0091540e715c"
      },
      "source": [
        "a,b,c,d,e,f = eval(input(\"Enter a number\"))\n",
        "\n",
        "a = a//3 ; b = b + a ; f = f + a\n",
        "print(f\"a = {a} b = {b} c = {c} d = {d} e = {e} f = {f}\")\n",
        "\n",
        "b = b//3 ; a = a + b ; c = c + b\n",
        "print(f\"a = {a} b = {b} c = {c} d = {d} e = {e} f = {f}\")\n",
        "\n",
        "c = c//3 ; b = b + c ; d = d + c\n",
        "print(f\"a = {a} b = {b} c = {c} d = {d} e = {e} f = {f}\")\n",
        "\n",
        "d = d//3 ; c = c + d ; e = e + c\n",
        "print(f\"a = {a} b = {b} c = {c} d = {d} e = {e} f = {f}\")\n",
        "\n",
        "e = e//3 ; d = d + e ; f = f + e\n",
        "print(f\"a = {a} b = {b} c = {c} d = {d} e = {e} f = {f}\")\n",
        "\n",
        "f = f//3 ; e = e + f ; a = a + f\n",
        "print(f\"a = {a} b = {b} c = {c} d = {d} e = {e} f = {f}\")"
      ],
      "execution_count": 8,
      "outputs": [
        {
          "output_type": "stream",
          "text": [
            "Enter a number3,6,9,12,18,21\n",
            "a = 1 b = 7 c = 9 d = 12 e = 18 f = 22\n",
            "a = 3 b = 2 c = 11 d = 12 e = 18 f = 22\n",
            "a = 3 b = 5 c = 3 d = 15 e = 18 f = 22\n",
            "a = 3 b = 5 c = 8 d = 5 e = 26 f = 22\n",
            "a = 3 b = 5 c = 8 d = 13 e = 8 f = 30\n",
            "a = 13 b = 5 c = 8 d = 13 e = 18 f = 10\n"
          ],
          "name": "stdout"
        }
      ]
    }
  ]
}