{
  "nbformat": 4,
  "nbformat_minor": 0,
  "metadata": {
    "colab": {
      "name": "洪鈴雅-Week3-練習作業.ipynb",
      "provenance": [],
      "authorship_tag": "ABX9TyM4sqlc9fM0xlVGkL/nUpQr",
      "include_colab_link": true
    },
    "kernelspec": {
      "name": "python3",
      "display_name": "Python 3"
    }
  },
  "cells": [
    {
      "cell_type": "markdown",
      "metadata": {
        "id": "view-in-github",
        "colab_type": "text"
      },
      "source": [
        "<a href=\"https://colab.research.google.com/github/a107270267/Computational-Thinking-and-Programming-Design/blob/main/%E6%B4%AA%E9%88%B4%E9%9B%85_Week3_%E7%B7%B4%E7%BF%92%E4%BD%9C%E6%A5%AD.ipynb\" target=\"_parent\"><img src=\"https://colab.research.google.com/assets/colab-badge.svg\" alt=\"Open In Colab\"/></a>"
      ]
    },
    {
      "cell_type": "markdown",
      "metadata": {
        "id": "oRMtFBLwNBP_"
      },
      "source": [
        "#隨堂練習"
      ]
    },
    {
      "cell_type": "markdown",
      "metadata": {
        "id": "Pl9UNh2gejZ3"
      },
      "source": [
        "階段一:Analysis - 運算思維。\r\n",
        "階段二 : Design - 程式設計。\r\n",
        "階段三:Coding - 撰寫程式。\r\n",
        "階段四:Testing - 測試與除錯。"
      ]
    },
    {
      "cell_type": "markdown",
      "metadata": {
        "id": "31J2S-OlNlOe"
      },
      "source": [
        "#課後練習"
      ]
    },
    {
      "cell_type": "markdown",
      "metadata": {
        "id": "TEv15nYLN-XP"
      },
      "source": [
        "從一則新聞報導，提出你對新聞系（OO系）學生為什麼要學「運算思維與程式設計」的見解。（告訴我新聞連結，以及你的觀點即可。）100字"
      ]
    },
    {
      "cell_type": "markdown",
      "metadata": {
        "id": "L26RD6yEOf-V"
      },
      "source": [
        "https://www.storm.mg/article/3117067?page=1\r\n",
        "我認為身為企管系的學生學習運算思維與程式設計，對於在想要或需要一些大數據資料時很有用處，因此學習運算的思維以及程式的設計也可以讓企管系的學生增加一些些的資訊知識，對於我們在寫企劃案時或者在設計一些方案時會很有幫助。"
      ]
    }
  ]
}