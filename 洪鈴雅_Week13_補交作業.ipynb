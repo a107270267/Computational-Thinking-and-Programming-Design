{
  "nbformat": 4,
  "nbformat_minor": 0,
  "metadata": {
    "kernelspec": {
      "display_name": "Python 3",
      "language": "python",
      "name": "python3"
    },
    "language_info": {
      "codemirror_mode": {
        "name": "ipython",
        "version": 3
      },
      "file_extension": ".py",
      "mimetype": "text/x-python",
      "name": "python",
      "nbconvert_exporter": "python",
      "pygments_lexer": "ipython3",
      "version": "3.8.5"
    },
    "colab": {
      "name": "洪鈴雅-Week13-補交作業.ipynb",
      "provenance": [],
      "include_colab_link": true
    }
  },
  "cells": [
    {
      "cell_type": "markdown",
      "metadata": {
        "id": "view-in-github",
        "colab_type": "text"
      },
      "source": [
        "<a href=\"https://colab.research.google.com/github/a107270267/Computational-Thinking-and-Programming-Design/blob/main/%E6%B4%AA%E9%88%B4%E9%9B%85_Week13_%E8%A3%9C%E4%BA%A4%E4%BD%9C%E6%A5%AD.ipynb\" target=\"_parent\"><img src=\"https://colab.research.google.com/assets/colab-badge.svg\" alt=\"Open In Colab\"/></a>"
      ]
    },
    {
      "cell_type": "markdown",
      "metadata": {
        "id": "b5QYIzv814es"
      },
      "source": [
        "**練習5   體溫與發燒**\n",
        "\n",
        "設計程式根據體溫判斷是否發燒，由使用者輸入體溫，程式判斷是否發燒，假設體溫小於36度，顯示「體溫過低」，體溫大於等於36度小於38度，顯示「體溫正常」，否則若體溫大於等於38度小於39度，顯示「體溫有點燒」，否則體溫大於等於39度，顯示「體溫很燒」。\n",
        "\n",
        "輸入體溫「36.5」，輸出為「體溫正常」。\n",
        "\n",
        "～程式執行結果如下。\n",
        "\n",
        "請輸入體溫？36.5\n",
        "\n",
        "體溫正常"
      ]
    },
    {
      "cell_type": "code",
      "metadata": {
        "id": "DN9DoWJ014es",
        "colab": {
          "base_uri": "https://localhost:8080/"
        },
        "outputId": "2cbd92f6-9abd-4b46-9fc6-70da7afbdd59"
      },
      "source": [
        "temp = float(input('請輸入體溫？'))\n",
        "if (temp < 36):\n",
        "    print('體溫過低')\n",
        "elif (temp < 38):\n",
        "    print('體溫正常')\n",
        "elif (temp < 39):\n",
        "    print('體溫有點燒')\n",
        "else:\n",
        "    print('體溫很燒')"
      ],
      "execution_count": 1,
      "outputs": [
        {
          "output_type": "stream",
          "text": [
            "請輸入體溫？35\n",
            "體溫過低\n"
          ],
          "name": "stdout"
        }
      ]
    },
    {
      "cell_type": "markdown",
      "metadata": {
        "id": "xzqrn12g14es"
      },
      "source": [
        "**練習6  閏年判斷**\n",
        "\n",
        "設計程式允許輸入西元幾年，請求出該年是否是閏年，閏年表示該年多一天，若為4的倍數稱做閏年，但若為100的倍數就不為閏年，且若為400倍數又是閏年。(四年一潤、百年不潤、四百年再潤)\n",
        "\n",
        "輸入年份「2012」，輸出為「2012是閏年」。\n",
        "\n",
        "～程式執行結果如下。\n",
        "\n",
        "請輸入年份？2012\n",
        "\n",
        "2012 是閏年"
      ]
    },
    {
      "cell_type": "code",
      "metadata": {
        "id": "-8VPB-io14et",
        "colab": {
          "base_uri": "https://localhost:8080/"
        },
        "outputId": "d50cc25a-c7fc-4a58-b494-ae747d187c8f"
      },
      "source": [
        "year = int(input('請輸入年份？'))\n",
        "if ((year % 400) == 0):\n",
        "    print(year,'是閏年')\n",
        "elif ((year % 100) == 0):\n",
        "    print(year,'不是閏年')\n",
        "elif ((year % 4) == 0):\n",
        "    print(year,'是閏年')\n",
        "else:\n",
        "    print('不是閏年')"
      ],
      "execution_count": 2,
      "outputs": [
        {
          "output_type": "stream",
          "text": [
            "請輸入年份？2021\n",
            "不是閏年\n"
          ],
          "name": "stdout"
        }
      ]
    },
    {
      "cell_type": "markdown",
      "metadata": {
        "id": "k04vjxdJ14et"
      },
      "source": [
        "**練習12：計程車計費**\n",
        "\n",
        "某城市計程車計費3公里以內6元，超過3公里不足10公里、每公里1.8元，超過10公里則超過部分加收50%。此外停車等候每3分鐘收1元，請用Python寫出車費是多少。"
      ]
    },
    {
      "cell_type": "code",
      "metadata": {
        "id": "ItkFrw2714et"
      },
      "source": [
        "pay_lengh = (6)\n",
        "          = (6) + (lengh - 3)*1.8\n",
        "          = (6) + (10 - 3 )*1.8 + (lengh - 10)*1.8*1.5\n",
        "pay_time = time/3*1\n",
        "pay = pay_lengh + pay_time "
      ],
      "execution_count": null,
      "outputs": []
    },
    {
      "cell_type": "code",
      "metadata": {
        "colab": {
          "base_uri": "https://localhost:8080/"
        },
        "id": "94Z3OWTfz80S",
        "outputId": "9d992775-5f95-4eda-8203-1dc4d994e745"
      },
      "source": [
        "lengh = int(input('請輸入距離：'))\n",
        "time = int(input('請輸入花費時間：'))\n",
        "if lengh >= 10:\n",
        "   feight = 6 + (10 - 3 ) *1.8 + (lengh - 10) *1.8 *1.5\n",
        "else:\n",
        "    if lengh >= 3:\n",
        "       feight = 6 + (lengh - 3) *1.8\n",
        "    else:\n",
        "        feight = 6\n",
        "feignt = feight + (time / 3)*1\n",
        "print('計程車費是',feight)"
      ],
      "execution_count": 3,
      "outputs": [
        {
          "output_type": "stream",
          "text": [
            "請輸入距離：10\n",
            "請輸入花費時間：60\n",
            "計程車費是 18.6\n"
          ],
          "name": "stdout"
        }
      ]
    }
  ]
}